{
 "cells": [
  {
   "cell_type": "markdown",
   "metadata": {},
   "source": [
    "## In this notebook I will try to experiment with connecting all my morphology works"
   ]
  },
  {
   "cell_type": "code",
   "execution_count": 1,
   "metadata": {},
   "outputs": [],
   "source": [
    "%load_ext autoreload\n",
    "%autoreload 2\n",
    "\n",
    "import sys\n",
    "sys.path.append('Libraries/')\n",
    "\n",
    "from imports import *\n",
    "from utils import *\n",
    "\n",
    "main_path = '/cortexdisk/data2/NestorRembrandtCollab/'\n",
    "code_dir = os.path.join(main_path,'Code Repositories')\n",
    "sys.path.append(code_dir)\n",
    "\n",
    "data_repository = 'atlas_files'\n",
    "\n",
    "mesoscale_path = '../mesoscale_extractor/'\n",
    "sys.path.append(mesoscale_path)\n",
    "\n",
    "from morphometrics_tools import *\n",
    "from morpho_embedding_tools import *\n",
    "from topography_tools import *\n",
    "from projection_utils import *\n",
    "from mesoscale_extractor import NeuronPopulation"
   ]
  },
  {
   "cell_type": "markdown",
   "metadata": {},
   "source": [
    "### Initialize a number of important variables\n"
   ]
  },
  {
   "cell_type": "code",
   "execution_count": 2,
   "metadata": {},
   "outputs": [],
   "source": [
    "res = 10\n",
    "useful_vars = load_useful_data(data_repository)\n",
    "[annotation, template, acr2id, id2acr, ancestorsById, neuriteLengthDistribution, acr_to_morpho_id] = useful_vars\n",
    "braintell_dir = os.path.join(main_path,'Data Repositories/Braintell')\n",
    "mouselight_dir = os.path.join(main_path,'Data Repositories/Mouselight/json')\n",
    "nld_list = neuriteLengthDistribution.keys()"
   ]
  },
  {
   "cell_type": "markdown",
   "metadata": {},
   "source": [
    "## Part III: Highlighting projection motifs"
   ]
  },
  {
   "cell_type": "markdown",
   "metadata": {},
   "source": [
    "#### Warning:   \n",
    "If I want to load exactly the data I used for the paper, I will need to change this one with the old acr2morpho_id file found at: /cortexdisk/data2/NestorRembrandtCollab/Data Repositories/mouse_connectivity/acr_to_morpho_id.json"
   ]
  },
  {
   "cell_type": "code",
   "execution_count": null,
   "metadata": {},
   "outputs": [],
   "source": [
    "layers = ['1','2/3','4','5','6a','6b']\n",
    "source_areas = ['VPM'] \n",
    "target_areas = ['SSs', 'SSp-bfd', 'SSp-m', 'SSp-ul', 'SSp-ll', 'SSp-n']\n",
    "\n",
    "neuropop_cls = NeuronPopulation(data_path = data_repository, res = res)\n",
    "\n",
    "mesoscale_stats_df = neuropop_cls.make_connectivity_matrix(source_areas, target_areas, \n",
    "                                                            feature = 'counts', mode = 'full', extract = 'terminals')\n",
    "\n",
    "## Keeping the order constant as done in the paper\n",
    "mesoscale_stats_df = mesoscale_stats_df.reindex(['SSp-ul', 'SSp-m', 'SSp-n', 'SSp-ll', 'SSs', 'SSp-bfd'], \n",
    "                                                axis = 1)\n",
    "\n",
    "mesoscale_stats_array = np.array(mesoscale_stats_df)\n",
    "mesoscale_stats_array[np.where(np.isnan(mesoscale_stats_array))] = 0"
   ]
  },
  {
   "cell_type": "markdown",
   "metadata": {},
   "source": [
    "##### Repeat t-SNE visualizations with both clustering results, Rembrandt style labeling, and motif labeling"
   ]
  },
  {
   "cell_type": "code",
   "execution_count": null,
   "metadata": {},
   "outputs": [],
   "source": [
    "cmap = ['#00FF00','#FF0000','#DD8800','#0000FF','#00AAFF','#333333','#880000','#884400','#000088','#0088DD',\"#00FF00\"]    \n",
    "Proj_mat_embedded, max_proj_labels = get_tSNE(mesoscale_stats_df, cmap)"
   ]
  },
  {
   "cell_type": "code",
   "execution_count": null,
   "metadata": {},
   "outputs": [],
   "source": [
    "unique_motifs, representation_list = get_motif_distribution(mesoscale_stats_df, proj_thr = 5, source_area = 'VPM')"
   ]
  },
  {
   "cell_type": "code",
   "execution_count": null,
   "metadata": {},
   "outputs": [],
   "source": [
    "motif_count_list = get_motif_counts(mesoscale_stats_df)"
   ]
  },
  {
   "cell_type": "markdown",
   "metadata": {},
   "source": [
    "### 06/12/2022: Here I will experiment with making flatmaps out of the clusters"
   ]
  },
  {
   "cell_type": "code",
   "execution_count": null,
   "metadata": {},
   "outputs": [],
   "source": [
    "another_data_repository = os.path.join(main_path,'Data Repositories/mouse_connectivity/')\n",
    "flatmap_dir = os.path.join(main_path,'Data Repositories/') \n",
    "source_vol, target_flts, color_neuron_dict = flatmap_the_clusters(mesoscale_stats_df, neuropop_cls, max_proj_labels, \n",
    "                                                                  annotation, template, acr2id, another_data_repository,\n",
    "                                                                  flatmap_dir, code_dir, source = 'VPM')"
   ]
  },
  {
   "cell_type": "markdown",
   "metadata": {},
   "source": [
    "### CPD Strategy: utilize the affinity matrix to assess morphological clusters "
   ]
  },
  {
   "cell_type": "code",
   "execution_count": null,
   "metadata": {},
   "outputs": [],
   "source": [
    "source_neuron_ids = sorted(list(mesoscale_stats_df.loc['VPM'].index))\n",
    "source_neuron_ids = [name_2_fd(val, acr_to_morpho_id, 'VPM', mouselight_dir, braintell_dir) for val in source_neuron_ids]\n",
    "# comp_res = compare_source_to_targets(source_neuron_ids[10:50], source_neuron_ids[10:50]) # or ...\n",
    "comp_res = compare_source_to_targets(source_neuron_ids, source_neuron_ids) \n",
    "Affinity_df_total, Affinity_df_trs_total, soma_dst_df, soma_pos = comp_res"
   ]
  },
  {
   "cell_type": "code",
   "execution_count": null,
   "metadata": {},
   "outputs": [],
   "source": [
    "keyRegions = list(mesoscale_stats_df.columns)\n",
    "morpho_res = morphological_embedding(Affinity_df_trs_total, soma_pos, annotation, color_neuron_dict, \n",
    "                                     max_proj_labels, nld_list, keyRegions)\n",
    "Affinity_mat_red, diff_grad, diff_grad_nrm, neuronid_to_grad, mdist_clust_labels = morpho_res"
   ]
  },
  {
   "cell_type": "code",
   "execution_count": null,
   "metadata": {},
   "outputs": [],
   "source": [
    "flatmap_the_gradients(neuropop_cls, neuronid_to_grad, annotation, template, acr2id, nld_list, another_data_repository, \n",
    "                      flatmap_dir, code_dir)"
   ]
  },
  {
   "cell_type": "code",
   "execution_count": null,
   "metadata": {
    "scrolled": true
   },
   "outputs": [],
   "source": [
    "motif_to_grad2_df, new_df3 = get_motif_barplots(mesoscale_stats_df, neuronid_to_grad, nld_list, participation_thr = 4, \n",
    "                                                exclude_list = ['SSp-ul','SSp-ll','SSp-tr'])"
   ]
  },
  {
   "cell_type": "markdown",
   "metadata": {},
   "source": [
    "### Topographic comparisons with source/target position and alignment with morphological gradient"
   ]
  },
  {
   "cell_type": "code",
   "execution_count": null,
   "metadata": {},
   "outputs": [],
   "source": [
    "soma_arr, target_arr, grad_position = get_source_and_target_arrays(neuronid_to_grad, neuropop_cls, nld_list, \n",
    "                                                                   annotation, id2acr, 'SSp')\n",
    "Affine_grand, X_trs_aff, r, Rotats_grand, mse_aff = get_topopgraphic_rotations(soma_arr, target_arr)\n",
    "get_topographic_plots(soma_arr, target_arr, X_trs_aff)"
   ]
  },
  {
   "cell_type": "code",
   "execution_count": null,
   "metadata": {},
   "outputs": [],
   "source": [
    "topograd_res = align_topography_and_gradient(soma_arr, target_arr, grad_position)\n",
    "lateromed_grad_src, anterolat_grad_trg, rho1, pval1, rho2, pval2 = topograd_res"
   ]
  },
  {
   "cell_type": "markdown",
   "metadata": {},
   "source": [
    "### Morphometric comparisons between the cell clusters"
   ]
  },
  {
   "cell_type": "code",
   "execution_count": null,
   "metadata": {},
   "outputs": [],
   "source": [
    "morpho_res = get_morphometrics_per_cluster(Affinity_df_trs_total, neuropop_cls, mdist_clust_labels, \n",
    "                                           nld_list, mouselight_dir, braintell_dir)\n",
    "morpho_stats_per_cluster, morpho_stats_per_cluster2, list_of_neurons_per_cluster, keep_list = morpho_res\n",
    "plot_morphometrics(morpho_stats_per_cluster, morpho_stats_per_cluster2, list_of_neurons_per_cluster, neuronid_to_grad,\n",
    "                   keep_list, mdist_clust_labels)"
   ]
  },
  {
   "cell_type": "markdown",
   "metadata": {},
   "source": [
    "### Calling the Han et al code for estimating the over/underrepresentation of motifs"
   ]
  },
  {
   "cell_type": "code",
   "execution_count": null,
   "metadata": {},
   "outputs": [],
   "source": [
    "area_labels = list(mesoscale_stats_df.columns)\n",
    "alpha = 0.05\n",
    "proj_thr = 6\n",
    "results = Port_Han_Motif_Code(mesoscale_stats_array, proj_thr, alpha, area_labels)\n",
    "motif,pval_min,significance,overorunder,observed,expected,p_all,neuronnum, pvalue = results"
   ]
  },
  {
   "cell_type": "code",
   "execution_count": null,
   "metadata": {},
   "outputs": [],
   "source": [
    "layers = ['1','2/3','4','5','6a','6b']\n",
    "target_areas_layered = [val1+val2 for val1 in target_areas for val2 in layers]\n",
    "mesoscale_stats_df_layered = neuropop_cls.make_connectivity_matrix(source_areas, target_areas_layered, \n",
    "                                                            feature = 'length', mode = 'full', extract = 'terminals')"
   ]
  },
  {
   "cell_type": "markdown",
   "metadata": {},
   "source": [
    "### Obtaining the layer-specific patterns associated with multifocal projections"
   ]
  },
  {
   "cell_type": "code",
   "execution_count": null,
   "metadata": {},
   "outputs": [],
   "source": [
    "proj_trg_laminar_dict = get_laminar_motifs(mesoscale_stats_df, mesoscale_stats_df_layered)"
   ]
  }
 ],
 "metadata": {
  "kernelspec": {
   "display_name": "Python 3 (ipykernel)",
   "language": "python",
   "name": "python3"
  },
  "language_info": {
   "codemirror_mode": {
    "name": "ipython",
    "version": 3
   },
   "file_extension": ".py",
   "mimetype": "text/x-python",
   "name": "python",
   "nbconvert_exporter": "python",
   "pygments_lexer": "ipython3",
   "version": "3.10.12"
  }
 },
 "nbformat": 4,
 "nbformat_minor": 4
}
